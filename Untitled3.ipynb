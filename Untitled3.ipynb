{
 "cells": [
  {
   "cell_type": "code",
   "execution_count": 1,
   "id": "1cc36dc2",
   "metadata": {},
   "outputs": [
    {
     "name": "stdout",
     "output_type": "stream",
     "text": [
      "total even number: 5\n",
      "total odd number: 5\n"
     ]
    }
   ],
   "source": [
    "# A program to count the number of even and odd numbers from a series of numbers.\n",
    "list=[0,1,2,3,4,5,6,7,8,9]\n",
    "odd=0\n",
    "even=0\n",
    "for num in list:\n",
    "    if num%2 == 0:\n",
    "        even+=1\n",
    "    else:\n",
    "        odd+=1\n",
    "print(\"total even number:\",even)\n",
    "print(\"total odd number:\",odd)"
   ]
  },
  {
   "cell_type": "code",
   "execution_count": null,
   "id": "26631985",
   "metadata": {},
   "outputs": [],
   "source": []
  }
 ],
 "metadata": {
  "kernelspec": {
   "display_name": "Python 3 (ipykernel)",
   "language": "python",
   "name": "python3"
  },
  "language_info": {
   "codemirror_mode": {
    "name": "ipython",
    "version": 3
   },
   "file_extension": ".py",
   "mimetype": "text/x-python",
   "name": "python",
   "nbconvert_exporter": "python",
   "pygments_lexer": "ipython3",
   "version": "3.10.9"
  }
 },
 "nbformat": 4,
 "nbformat_minor": 5
}
